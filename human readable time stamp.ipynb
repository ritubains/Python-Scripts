{
 "cells": [
  {
   "cell_type": "code",
   "execution_count": 1,
   "metadata": {},
   "outputs": [],
   "source": [
    " import datetime"
   ]
  },
  {
   "cell_type": "code",
   "execution_count": 3,
   "metadata": {},
   "outputs": [],
   "source": [
    "class time(object):\n",
    "    \n",
    "    \"\"\"\n",
    "    converts a python datetime object to the\n",
    "    format \"X days, Y hours ago\"\n",
    "\n",
    "    @param date_time: Python datetime object\n",
    "\n",
    "    @return:\n",
    "        fancy datetime:: string\n",
    "    \"\"\"\n",
    "\n",
    "    def __init__(self, dt):\n",
    "        now = datetime.datetime.now()\n",
    "        delta = now - dt\n",
    "        self.year = delta.days / 365\n",
    "        self.month = delta.days / 30 - (12 * self.year)\n",
    "        if self.year > 0:\n",
    "            self.day = 0\n",
    "        else:\n",
    "            self.day = delta.days % 30\n",
    "        self.hour = delta.seconds / 3600\n",
    "        self.minute = delta.seconds / 60 - (60 * self.hour)\n",
    "\n",
    "    def format(self):\n",
    "        fmt = []\n",
    "        for period in ['year', 'month', 'day', 'hour', 'minute']:\n",
    "            value = getattr(self, period)\n",
    "            value=round(value,2)\n",
    "            if value:\n",
    "                if value > 1:\n",
    "                    period += \"s\"\n",
    "                fmt.append(\"%s %s\" % (value, period))\n",
    "        return \", \".join(fmt) + \" ago\""
   ]
  },
  {
   "cell_type": "code",
   "execution_count": 2,
   "metadata": {},
   "outputs": [],
   "source": [
    "bkwd_date = datetime.datetime.now()-datetime.timedelta(days=0, seconds=100000, microseconds=0, milliseconds=0, minutes=0, hours=0, weeks=0)"
   ]
  },
  {
   "cell_type": "code",
   "execution_count": 24,
   "metadata": {},
   "outputs": [
    {
     "data": {
      "text/plain": [
       "datetime.datetime(2005, 6, 1, 13, 33)"
      ]
     },
     "execution_count": 24,
     "metadata": {},
     "output_type": "execute_result"
    }
   ],
   "source": [
    "\n",
    "datetime_object = datetime.datetime.strptime('Jun 1 2005  1:33PM', '%b %d %Y %I:%M%p')\n",
    "datetime_object"
   ]
  },
  {
   "cell_type": "code",
   "execution_count": 25,
   "metadata": {},
   "outputs": [],
   "source": [
    "#bkwd_date = datetime.datetime.now()-datetime_object"
   ]
  },
  {
   "cell_type": "code",
   "execution_count": 5,
   "metadata": {},
   "outputs": [
    {
     "data": {
      "text/plain": [
       "'3.78 hours ago'"
      ]
     },
     "execution_count": 5,
     "metadata": {},
     "output_type": "execute_result"
    }
   ],
   "source": [
    "time(bkwd_date).format()"
   ]
  },
  {
   "cell_type": "code",
   "execution_count": 38,
   "metadata": {},
   "outputs": [
    {
     "data": {
      "text/plain": [
       "datetime.datetime(2019, 11, 19, 13, 12, 25, 835111)"
      ]
     },
     "execution_count": 38,
     "metadata": {},
     "output_type": "execute_result"
    }
   ],
   "source": [
    "datetime.datetime.now()"
   ]
  },
  {
   "cell_type": "code",
   "execution_count": 37,
   "metadata": {},
   "outputs": [
    {
     "data": {
      "text/plain": [
       "datetime.datetime(2019, 10, 20, 13, 11, 52, 145046)"
      ]
     },
     "execution_count": 37,
     "metadata": {},
     "output_type": "execute_result"
    }
   ],
   "source": [
    "datetime.datetime.today()-datetime.timedelta(days=30)"
   ]
  },
  {
   "cell_type": "code",
   "execution_count": 40,
   "metadata": {},
   "outputs": [],
   "source": [
    "import pandas as pd"
   ]
  },
  {
   "cell_type": "code",
   "execution_count": 43,
   "metadata": {},
   "outputs": [],
   "source": [
    "test_start_date = pd.to_datetime(datetime.datetime.now(), format=\"%Y-%m-%d\").date()\n",
    "test_end_date = pd.to_datetime(datetime.datetime.now(), format=\"%Y-%m-%d\").date()\n",
    "days = test_end_date - test_start_date\n",
    "days = days.days "
   ]
  },
  {
   "cell_type": "code",
   "execution_count": 44,
   "metadata": {},
   "outputs": [
    {
     "data": {
      "text/plain": [
       "0"
      ]
     },
     "execution_count": 44,
     "metadata": {},
     "output_type": "execute_result"
    }
   ],
   "source": [
    "days"
   ]
  },
  {
   "cell_type": "code",
   "execution_count": 9,
   "metadata": {},
   "outputs": [],
   "source": [
    "now = datetime.datetime.now()\n",
    "delta = now - bkwd_date\n",
    "year = delta.days / 3\n",
    "month = delta.days / 30 - (12 * year)\n",
    "if year >1:\n",
    "    day = 0\n",
    "else:\n",
    "    day = delta.days % 30\n",
    "hour = delta.seconds / 3600\n",
    "minute = delta.seconds / 60 - (60 * hour)\n"
   ]
  },
  {
   "cell_type": "code",
   "execution_count": 7,
   "metadata": {},
   "outputs": [],
   "source": [
    "import datetime\n"
   ]
  },
  {
   "cell_type": "code",
   "execution_count": 8,
   "metadata": {},
   "outputs": [],
   "source": [
    "time=(datetime.datetime.now()-datetime.datetime(1970,1,1)).total_seconds()"
   ]
  },
  {
   "cell_type": "code",
   "execution_count": 26,
   "metadata": {},
   "outputs": [],
   "source": [
    "q=time # For example\n",
    "days = divmod(q, 86400) \n",
    "hours = divmod(days[1], 3600)\n",
    "minutes = divmod(hours[1], 60)\n",
    "if days[0]==0 and hours==0 and minutes[0]==0:\n",
    "    time_format=\"%i seconds\" % (minutes[1])\n",
    "elif days[0]==0 and hours[0]==0 :\n",
    "     time_format=\"%i minutes,%i seconds ago\" % ( minutes[0],minutes[1])\n",
    "elif days[0]==0:\n",
    "    time_format=\" %i hours,%i minutes,%i seconds ago\" % (hours[0], minutes[0],minutes[1])\n",
    "else:\n",
    "    time_format=\"%i days, %i hours\" %(days[0], hours[0])\n",
    "    \n",
    "    \n"
   ]
  },
  {
   "cell_type": "code",
   "execution_count": 27,
   "metadata": {},
   "outputs": [
    {
     "data": {
      "text/plain": [
       "'18233 days, 17 hours'"
      ]
     },
     "execution_count": 27,
     "metadata": {},
     "output_type": "execute_result"
    }
   ],
   "source": [
    "time_format"
   ]
  },
  {
   "cell_type": "code",
   "execution_count": 31,
   "metadata": {},
   "outputs": [
    {
     "data": {
      "text/plain": [
       "'2019-12-03 17:58 PM'"
      ]
     },
     "execution_count": 31,
     "metadata": {},
     "output_type": "execute_result"
    }
   ],
   "source": [
    "now=datetime.datetime.now()\n",
    "now.strftime(\"%Y-%m-%d %H:%M %p\")"
   ]
  },
  {
   "cell_type": "code",
   "execution_count": null,
   "metadata": {},
   "outputs": [],
   "source": []
  }
 ],
 "metadata": {
  "kernelspec": {
   "display_name": "Python 3",
   "language": "python",
   "name": "python3"
  },
  "language_info": {
   "codemirror_mode": {
    "name": "ipython",
    "version": 3
   },
   "file_extension": ".py",
   "mimetype": "text/x-python",
   "name": "python",
   "nbconvert_exporter": "python",
   "pygments_lexer": "ipython3",
   "version": "3.6.8"
  }
 },
 "nbformat": 4,
 "nbformat_minor": 2
}
